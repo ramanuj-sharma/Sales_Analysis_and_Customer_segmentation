{
 "cells": [
  {
   "cell_type": "code",
   "execution_count": 1,
   "metadata": {},
   "outputs": [],
   "source": [
    "import pandas as pd\n",
    "import matplotlib.pyplot as plt\n",
    "import seaborn as sns"
   ]
  },
  {
   "cell_type": "code",
   "execution_count": 2,
   "metadata": {},
   "outputs": [],
   "source": [
    "df_2010 = pd.read_excel('online_retail.xlsx', sheet_name = 0)\n",
    "df_2011 = pd.read_excel('online_retail.xlsx', sheet_name = 1)"
   ]
  },
  {
   "cell_type": "code",
   "execution_count": 3,
   "metadata": {},
   "outputs": [
    {
     "name": "stdout",
     "output_type": "stream",
     "text": [
      "<class 'pandas.core.frame.DataFrame'>\n",
      "RangeIndex: 525461 entries, 0 to 525460\n",
      "Data columns (total 8 columns):\n",
      " #   Column       Non-Null Count   Dtype         \n",
      "---  ------       --------------   -----         \n",
      " 0   Invoice      525461 non-null  object        \n",
      " 1   StockCode    525461 non-null  object        \n",
      " 2   Description  522533 non-null  object        \n",
      " 3   Quantity     525461 non-null  int64         \n",
      " 4   InvoiceDate  525461 non-null  datetime64[ns]\n",
      " 5   Price        525461 non-null  float64       \n",
      " 6   Customer ID  417534 non-null  float64       \n",
      " 7   Country      525461 non-null  object        \n",
      "dtypes: datetime64[ns](1), float64(2), int64(1), object(4)\n",
      "memory usage: 32.1+ MB\n"
     ]
    }
   ],
   "source": [
    "df_2010.info()"
   ]
  },
  {
   "cell_type": "code",
   "execution_count": 4,
   "metadata": {},
   "outputs": [
    {
     "name": "stdout",
     "output_type": "stream",
     "text": [
      "<class 'pandas.core.frame.DataFrame'>\n",
      "RangeIndex: 541910 entries, 0 to 541909\n",
      "Data columns (total 8 columns):\n",
      " #   Column       Non-Null Count   Dtype         \n",
      "---  ------       --------------   -----         \n",
      " 0   Invoice      541910 non-null  object        \n",
      " 1   StockCode    541910 non-null  object        \n",
      " 2   Description  540456 non-null  object        \n",
      " 3   Quantity     541910 non-null  int64         \n",
      " 4   InvoiceDate  541910 non-null  datetime64[ns]\n",
      " 5   Price        541910 non-null  float64       \n",
      " 6   Customer ID  406830 non-null  float64       \n",
      " 7   Country      541910 non-null  object        \n",
      "dtypes: datetime64[ns](1), float64(2), int64(1), object(4)\n",
      "memory usage: 33.1+ MB\n"
     ]
    }
   ],
   "source": [
    "df_2011.info()"
   ]
  },
  {
   "cell_type": "code",
   "execution_count": 5,
   "metadata": {},
   "outputs": [
    {
     "data": {
      "text/html": [
       "<div>\n",
       "<style scoped>\n",
       "    .dataframe tbody tr th:only-of-type {\n",
       "        vertical-align: middle;\n",
       "    }\n",
       "\n",
       "    .dataframe tbody tr th {\n",
       "        vertical-align: top;\n",
       "    }\n",
       "\n",
       "    .dataframe thead th {\n",
       "        text-align: right;\n",
       "    }\n",
       "</style>\n",
       "<table border=\"1\" class=\"dataframe\">\n",
       "  <thead>\n",
       "    <tr style=\"text-align: right;\">\n",
       "      <th></th>\n",
       "      <th>Quantity</th>\n",
       "      <th>InvoiceDate</th>\n",
       "      <th>Price</th>\n",
       "      <th>Customer ID</th>\n",
       "    </tr>\n",
       "  </thead>\n",
       "  <tbody>\n",
       "    <tr>\n",
       "      <th>count</th>\n",
       "      <td>525461.000000</td>\n",
       "      <td>525461</td>\n",
       "      <td>525461.000000</td>\n",
       "      <td>417534.000000</td>\n",
       "    </tr>\n",
       "    <tr>\n",
       "      <th>mean</th>\n",
       "      <td>10.337667</td>\n",
       "      <td>2010-06-28 11:37:36.845017856</td>\n",
       "      <td>4.688834</td>\n",
       "      <td>15360.645478</td>\n",
       "    </tr>\n",
       "    <tr>\n",
       "      <th>min</th>\n",
       "      <td>-9600.000000</td>\n",
       "      <td>2009-12-01 07:45:00</td>\n",
       "      <td>-53594.360000</td>\n",
       "      <td>12346.000000</td>\n",
       "    </tr>\n",
       "    <tr>\n",
       "      <th>25%</th>\n",
       "      <td>1.000000</td>\n",
       "      <td>2010-03-21 12:20:00</td>\n",
       "      <td>1.250000</td>\n",
       "      <td>13983.000000</td>\n",
       "    </tr>\n",
       "    <tr>\n",
       "      <th>50%</th>\n",
       "      <td>3.000000</td>\n",
       "      <td>2010-07-06 09:51:00</td>\n",
       "      <td>2.100000</td>\n",
       "      <td>15311.000000</td>\n",
       "    </tr>\n",
       "    <tr>\n",
       "      <th>75%</th>\n",
       "      <td>10.000000</td>\n",
       "      <td>2010-10-15 12:45:00</td>\n",
       "      <td>4.210000</td>\n",
       "      <td>16799.000000</td>\n",
       "    </tr>\n",
       "    <tr>\n",
       "      <th>max</th>\n",
       "      <td>19152.000000</td>\n",
       "      <td>2010-12-09 20:01:00</td>\n",
       "      <td>25111.090000</td>\n",
       "      <td>18287.000000</td>\n",
       "    </tr>\n",
       "    <tr>\n",
       "      <th>std</th>\n",
       "      <td>107.424110</td>\n",
       "      <td>NaN</td>\n",
       "      <td>146.126914</td>\n",
       "      <td>1680.811316</td>\n",
       "    </tr>\n",
       "  </tbody>\n",
       "</table>\n",
       "</div>"
      ],
      "text/plain": [
       "            Quantity                    InvoiceDate          Price  \\\n",
       "count  525461.000000                         525461  525461.000000   \n",
       "mean       10.337667  2010-06-28 11:37:36.845017856       4.688834   \n",
       "min     -9600.000000            2009-12-01 07:45:00  -53594.360000   \n",
       "25%         1.000000            2010-03-21 12:20:00       1.250000   \n",
       "50%         3.000000            2010-07-06 09:51:00       2.100000   \n",
       "75%        10.000000            2010-10-15 12:45:00       4.210000   \n",
       "max     19152.000000            2010-12-09 20:01:00   25111.090000   \n",
       "std       107.424110                            NaN     146.126914   \n",
       "\n",
       "         Customer ID  \n",
       "count  417534.000000  \n",
       "mean    15360.645478  \n",
       "min     12346.000000  \n",
       "25%     13983.000000  \n",
       "50%     15311.000000  \n",
       "75%     16799.000000  \n",
       "max     18287.000000  \n",
       "std      1680.811316  "
      ]
     },
     "execution_count": 5,
     "metadata": {},
     "output_type": "execute_result"
    }
   ],
   "source": [
    "df_2010.describe()"
   ]
  },
  {
   "cell_type": "code",
   "execution_count": 6,
   "metadata": {},
   "outputs": [
    {
     "data": {
      "text/html": [
       "<div>\n",
       "<style scoped>\n",
       "    .dataframe tbody tr th:only-of-type {\n",
       "        vertical-align: middle;\n",
       "    }\n",
       "\n",
       "    .dataframe tbody tr th {\n",
       "        vertical-align: top;\n",
       "    }\n",
       "\n",
       "    .dataframe thead th {\n",
       "        text-align: right;\n",
       "    }\n",
       "</style>\n",
       "<table border=\"1\" class=\"dataframe\">\n",
       "  <thead>\n",
       "    <tr style=\"text-align: right;\">\n",
       "      <th></th>\n",
       "      <th>Quantity</th>\n",
       "      <th>InvoiceDate</th>\n",
       "      <th>Price</th>\n",
       "      <th>Customer ID</th>\n",
       "    </tr>\n",
       "  </thead>\n",
       "  <tbody>\n",
       "    <tr>\n",
       "      <th>count</th>\n",
       "      <td>541910.000000</td>\n",
       "      <td>541910</td>\n",
       "      <td>541910.000000</td>\n",
       "      <td>406830.000000</td>\n",
       "    </tr>\n",
       "    <tr>\n",
       "      <th>mean</th>\n",
       "      <td>9.552234</td>\n",
       "      <td>2011-07-04 13:35:22.342307584</td>\n",
       "      <td>4.611138</td>\n",
       "      <td>15287.684160</td>\n",
       "    </tr>\n",
       "    <tr>\n",
       "      <th>min</th>\n",
       "      <td>-80995.000000</td>\n",
       "      <td>2010-12-01 08:26:00</td>\n",
       "      <td>-11062.060000</td>\n",
       "      <td>12346.000000</td>\n",
       "    </tr>\n",
       "    <tr>\n",
       "      <th>25%</th>\n",
       "      <td>1.000000</td>\n",
       "      <td>2011-03-28 11:34:00</td>\n",
       "      <td>1.250000</td>\n",
       "      <td>13953.000000</td>\n",
       "    </tr>\n",
       "    <tr>\n",
       "      <th>50%</th>\n",
       "      <td>3.000000</td>\n",
       "      <td>2011-07-19 17:17:00</td>\n",
       "      <td>2.080000</td>\n",
       "      <td>15152.000000</td>\n",
       "    </tr>\n",
       "    <tr>\n",
       "      <th>75%</th>\n",
       "      <td>10.000000</td>\n",
       "      <td>2011-10-19 11:27:00</td>\n",
       "      <td>4.130000</td>\n",
       "      <td>16791.000000</td>\n",
       "    </tr>\n",
       "    <tr>\n",
       "      <th>max</th>\n",
       "      <td>80995.000000</td>\n",
       "      <td>2011-12-09 12:50:00</td>\n",
       "      <td>38970.000000</td>\n",
       "      <td>18287.000000</td>\n",
       "    </tr>\n",
       "    <tr>\n",
       "      <th>std</th>\n",
       "      <td>218.080957</td>\n",
       "      <td>NaN</td>\n",
       "      <td>96.759765</td>\n",
       "      <td>1713.603074</td>\n",
       "    </tr>\n",
       "  </tbody>\n",
       "</table>\n",
       "</div>"
      ],
      "text/plain": [
       "            Quantity                    InvoiceDate          Price  \\\n",
       "count  541910.000000                         541910  541910.000000   \n",
       "mean        9.552234  2011-07-04 13:35:22.342307584       4.611138   \n",
       "min    -80995.000000            2010-12-01 08:26:00  -11062.060000   \n",
       "25%         1.000000            2011-03-28 11:34:00       1.250000   \n",
       "50%         3.000000            2011-07-19 17:17:00       2.080000   \n",
       "75%        10.000000            2011-10-19 11:27:00       4.130000   \n",
       "max     80995.000000            2011-12-09 12:50:00   38970.000000   \n",
       "std       218.080957                            NaN      96.759765   \n",
       "\n",
       "         Customer ID  \n",
       "count  406830.000000  \n",
       "mean    15287.684160  \n",
       "min     12346.000000  \n",
       "25%     13953.000000  \n",
       "50%     15152.000000  \n",
       "75%     16791.000000  \n",
       "max     18287.000000  \n",
       "std      1713.603074  "
      ]
     },
     "execution_count": 6,
     "metadata": {},
     "output_type": "execute_result"
    }
   ],
   "source": [
    "df_2011.describe()"
   ]
  },
  {
   "cell_type": "code",
   "execution_count": 7,
   "metadata": {},
   "outputs": [
    {
     "data": {
      "text/plain": [
       "Invoice             0\n",
       "StockCode           0\n",
       "Description      2928\n",
       "Quantity            0\n",
       "InvoiceDate         0\n",
       "Price               0\n",
       "Customer ID    107927\n",
       "Country             0\n",
       "dtype: int64"
      ]
     },
     "execution_count": 7,
     "metadata": {},
     "output_type": "execute_result"
    }
   ],
   "source": [
    "df_2010.isnull().sum()"
   ]
  },
  {
   "cell_type": "code",
   "execution_count": 8,
   "metadata": {},
   "outputs": [
    {
     "data": {
      "text/plain": [
       "Invoice             0\n",
       "StockCode           0\n",
       "Description      1454\n",
       "Quantity            0\n",
       "InvoiceDate         0\n",
       "Price               0\n",
       "Customer ID    135080\n",
       "Country             0\n",
       "dtype: int64"
      ]
     },
     "execution_count": 8,
     "metadata": {},
     "output_type": "execute_result"
    }
   ],
   "source": [
    "df_2011.isnull().sum()"
   ]
  },
  {
   "cell_type": "code",
   "execution_count": 9,
   "metadata": {},
   "outputs": [
    {
     "data": {
      "text/plain": [
       "Invoice        28816\n",
       "StockCode       4632\n",
       "Description     4681\n",
       "Quantity         825\n",
       "InvoiceDate    25296\n",
       "Price           1606\n",
       "Customer ID     4383\n",
       "Country           40\n",
       "dtype: int64"
      ]
     },
     "execution_count": 9,
     "metadata": {},
     "output_type": "execute_result"
    }
   ],
   "source": [
    "df_2010.nunique()"
   ]
  },
  {
   "cell_type": "code",
   "execution_count": 10,
   "metadata": {},
   "outputs": [
    {
     "data": {
      "text/plain": [
       "Invoice        25900\n",
       "StockCode       4070\n",
       "Description     4223\n",
       "Quantity         722\n",
       "InvoiceDate    23260\n",
       "Price           1630\n",
       "Customer ID     4372\n",
       "Country           38\n",
       "dtype: int64"
      ]
     },
     "execution_count": 10,
     "metadata": {},
     "output_type": "execute_result"
    }
   ],
   "source": [
    "df_2011.nunique()"
   ]
  },
  {
   "cell_type": "markdown",
   "metadata": {},
   "source": [
    "## 1. Sales Trends Over Time"
   ]
  },
  {
   "cell_type": "code",
   "execution_count": 11,
   "metadata": {},
   "outputs": [],
   "source": [
    "# Add a 'Month' and 'Quarter' column\n",
    "df_2010['Month'] = df_2010['InvoiceDate'].dt.to_period('M')\n",
    "df_2011['Month'] = df_2011['InvoiceDate'].dt.to_period('M')\n",
    "\n",
    "df_2010['Quarter'] = df_2010['InvoiceDate'].dt.to_period('Q')\n",
    "df_2011['Quarter'] = df_2011['InvoiceDate'].dt.to_period('Q')"
   ]
  },
  {
   "cell_type": "code",
   "execution_count": 12,
   "metadata": {},
   "outputs": [],
   "source": [
    "# Monthly sales trends\n",
    "monthly_sales_2010 = df_2010.groupby('Month')['Price'].sum()\n",
    "monthly_sales_2011 = df_2011.groupby('Month')['Price'].sum()"
   ]
  },
  {
   "cell_type": "code",
   "execution_count": 13,
   "metadata": {},
   "outputs": [],
   "source": [
    "# Quarterly sales trends\n",
    "quarterly_sales_2010 = df_2010.groupby('Quarter')['Price'].sum()\n",
    "quarterly_sales_2011 = df_2011.groupby('Quarter')['Price'].sum()"
   ]
  },
  {
   "cell_type": "code",
   "execution_count": 14,
   "metadata": {},
   "outputs": [
    {
     "data": {
      "image/png": "[encoded data removed]",
      "text/plain": [
       "<Figure size 1400x600 with 4 Axes>"
      ]
     },
     "metadata": {},
     "output_type": "display_data"
    }
   ],
   "source": [
    "# Plotting\n",
    "plt.figure(figsize=(14, 6))\n",
    "\n",
    "plt.subplot(2, 2, 1)\n",
    "monthly_sales_2010.plot(kind='line', title='Monthly Sales 2010')\n",
    "plt.xticks(rotation=45)\n",
    "\n",
    "plt.subplot(2, 2, 2)\n",
    "monthly_sales_2011.plot(kind='line', title='Monthly Sales 2011')\n",
    "plt.xticks(rotation=45)\n",
    "\n",
    "plt.subplot(2, 2, 3)\n",
    "quarterly_sales_2010.plot(kind='bar', title='Quarterly Sales 2010')\n",
    "plt.xticks(rotation=45)\n",
    "\n",
    "plt.subplot(2, 2, 4)\n",
    "quarterly_sales_2011.plot(kind='bar', title='Quarterly Sales 2011')\n",
    "plt.xticks(rotation=45)\n",
    "\n",
    "plt.tight_layout()\n",
    "plt.show()"
   ]
  },
  {
   "cell_type": "markdown",
   "metadata": {},
   "source": [
    "### Overview\n",
    "This analysis explores sales trends over the years 2010 and 2011, breaking down revenue on a monthly and quarterly basis to identify high and low sales periods.\n",
    "\n",
    "### Monthly Sales Trends\n",
    "The line charts above illustrate the total sales revenue for each month in 2010 and 2011. Key observations include:\n",
    "\n",
    "- **2010**: There are noticeable peaks in March, October, and November, which could indicate cyclical buying patterns or successful promotional campaigns during these months.\n",
    "  \n",
    "- **2011**: Similar trends are seen with peaks in November, potentially aligning with pre-holiday purchases or annual events.\n",
    "\n",
    "### Quarterly Sales Trends\n",
    "The bar charts demonstrate quarterly sales performance for each year:\n",
    "\n",
    "- **2010**: The first and last quarters (Q1 and Q4) show the highest sales. This might suggest seasonal influences or effective end-of-year strategies.\n",
    "\n",
    "- **2011**: Again, Q1 and Q4 outpace other quarters, indicating a recurring annual trend or successful promotions during these times.\n",
    "\n",
    "### Conclusion\n",
    "The data highlights recurring patterns that can inform future sales strategies, such as targeting specific months and quarters for promotional activities to maximize revenue."
   ]
  },
  {
   "cell_type": "markdown",
   "metadata": {},
   "source": [
    "## 2. Top Products by Quantity and Revenue"
   ]
  },
  {
   "cell_type": "code",
   "execution_count": 15,
   "metadata": {},
   "outputs": [
    {
     "name": "stdout",
     "output_type": "stream",
     "text": [
      "Top Products by Quantity 2010:\n",
      "Description\n",
      "WHITE HANGING HEART T-LIGHT HOLDER    57733\n",
      "WORLD WAR 2 GLIDERS ASSTD DESIGNS     54698\n",
      "BROCADE RING PURSE                    47647\n",
      "PACK OF 72 RETRO SPOT CAKE CASES      46106\n",
      "ASSORTED COLOUR BIRD ORNAMENT         44925\n",
      "60 TEATIME FAIRY CAKE CASES           36326\n",
      "PACK OF 60 PINK PAISLEY CAKE CASES    31822\n",
      "JUMBO BAG RED RETROSPOT               30727\n",
      "SMALL POPCORN HOLDER                  29500\n",
      "STRAWBERRY CERAMIC TRINKET BOX        26563\n",
      "Name: Quantity, dtype: int64\n",
      "\n",
      "Top Products by Quantity 2011:\n",
      "Description\n",
      "WORLD WAR 2 GLIDERS ASSTD DESIGNS     53847\n",
      "JUMBO BAG RED RETROSPOT               47363\n",
      "ASSORTED COLOUR BIRD ORNAMENT         36381\n",
      "POPCORN HOLDER                        36334\n",
      "PACK OF 72 RETROSPOT CAKE CASES       36039\n",
      "WHITE HANGING HEART T-LIGHT HOLDER    35317\n",
      "RABBIT NIGHT LIGHT                    30680\n",
      "MINI PAINT SET VINTAGE                26437\n",
      "PACK OF 12 LONDON TISSUES             26315\n",
      "PACK OF 60 PINK PAISLEY CAKE CASES    24753\n",
      "Name: Quantity, dtype: int64\n"
     ]
    }
   ],
   "source": [
    "# Top products by quantity\n",
    "top_products_qty_2010 = df_2010.groupby('Description')['Quantity'].sum().sort_values(ascending=False).head(10)\n",
    "top_products_qty_2011 = df_2011.groupby('Description')['Quantity'].sum().sort_values(ascending=False).head(10)\n",
    "\n",
    "print(\"Top Products by Quantity 2010:\")\n",
    "print(top_products_qty_2010)\n",
    "print(\"\\nTop Products by Quantity 2011:\")\n",
    "print(top_products_qty_2011)"
   ]
  },
  {
   "cell_type": "markdown",
   "metadata": {},
   "source": [
    "### Analysis of Top Products by Quantity\n",
    "\n",
    "The analysis of best-selling products by quantity for 2010 and 2011 reveals consistent top performers, such as the **World War 2 Gliders Assorted Designs** and **Jumbo Bag Red Retrospot**. These items indicate strong consumer demand and can guide strategic decisions in inventory management and marketing. Notably, some products maintained high sales across both years, suggesting enduring popularity and potential for continued promotional focus."
   ]
  },
  {
   "cell_type": "code",
   "execution_count": 16,
   "metadata": {},
   "outputs": [
    {
     "name": "stdout",
     "output_type": "stream",
     "text": [
      "\n",
      "Top Products by Revenue 2010:\n",
      "Description\n",
      "REGENCY CAKESTAND 3 TIER               163051.46\n",
      "WHITE HANGING HEART T-LIGHT HOLDER     157865.43\n",
      "DOTCOM POSTAGE                         116401.99\n",
      "ASSORTED COLOUR BIRD ORNAMENT           72454.12\n",
      "PAPER CHAIN KIT 50'S CHRISTMAS          57870.20\n",
      "JUMBO BAG RED RETROSPOT                 56444.61\n",
      "PARTY BUNTING                           49645.52\n",
      "ROTATING SILVER ANGELS T-LIGHT HLDR     47672.49\n",
      "POSTAGE                                 46092.36\n",
      "JUMBO BAG STRAWBERRY                    36699.61\n",
      "Name: Revenue, dtype: float64\n",
      "\n",
      "Top Products by Revenue 2011:\n",
      "Description\n",
      "DOTCOM POSTAGE                        206245.48\n",
      "REGENCY CAKESTAND 3 TIER              164762.19\n",
      "WHITE HANGING HEART T-LIGHT HOLDER     99668.47\n",
      "PARTY BUNTING                          98302.98\n",
      "JUMBO BAG RED RETROSPOT                92356.03\n",
      "RABBIT NIGHT LIGHT                     66756.59\n",
      "POSTAGE                                66248.64\n",
      "PAPER CHAIN KIT 50'S CHRISTMAS         63791.94\n",
      "ASSORTED COLOUR BIRD ORNAMENT          58959.73\n",
      "CHILLI LIGHTS                          53768.06\n",
      "Name: Revenue, dtype: float64\n"
     ]
    }
   ],
   "source": [
    "# Top products by revenue\n",
    "df_2010['Revenue'] = df_2010['Quantity'] * df_2010['Price']\n",
    "df_2011['Revenue'] = df_2011['Quantity'] * df_2011['Price']\n",
    "\n",
    "top_products_revenue_2010 = df_2010.groupby('Description')['Revenue'].sum().sort_values(ascending=False).head(10)\n",
    "top_products_revenue_2011 = df_2011.groupby('Description')['Revenue'].sum().sort_values(ascending=False).head(10)\n",
    "\n",
    "print(\"\\nTop Products by Revenue 2010:\")\n",
    "print(top_products_revenue_2010)\n",
    "print(\"\\nTop Products by Revenue 2011:\")\n",
    "print(top_products_revenue_2011)"
   ]
  },
  {
   "cell_type": "markdown",
   "metadata": {},
   "source": [
    "The examination of top products by revenue for 2010 and 2011 highlights several high-earning items:\n",
    "\n",
    "### 2010 Insights\n",
    "- **Regency Cakestand 3 Tier** and **White Hanging Heart T-Light Holder** are the leading revenue generators, suggesting their high demand and premium pricing.\n",
    "- **Dotcom Postage**, which appears in both years, indicates that additional services or shipping costs are significant revenue contributors.\n",
    "\n",
    "### 2011 Insights\n",
    "- **Dotcom Postage** tops the list, followed by **Regency Cakestand 3 Tier**, maintaining their positions as major revenue contributors.\n",
    "- Items like **Party Bunting** and **Jumbo Bag Red Retrospot** consistently appear, indicating steady consumer interest.\n",
    "\n",
    "### Conclusion\n",
    "Products with consistent high revenue across years should be prioritized in marketing strategies and stock management. The significant role of items like **Dotcom Postage** suggests exploring potential revenue streams in service-related areas."
   ]
  },
  {
   "cell_type": "markdown",
   "metadata": {},
   "source": [
    "## 3. Customer Segmentation by Contribution to Sales"
   ]
  },
  {
   "cell_type": "code",
   "execution_count": 17,
   "metadata": {},
   "outputs": [
    {
     "name": "stdout",
     "output_type": "stream",
     "text": [
      "\n",
      "Top Customers by Revenue 2010:\n",
      "Customer ID\n",
      "18102.0    341776.73\n",
      "14646.0    243853.05\n",
      "14156.0    183180.55\n",
      "14911.0    137675.91\n",
      "13694.0    128172.42\n",
      "17511.0     83760.60\n",
      "15061.0     82162.74\n",
      "16684.0     75610.17\n",
      "13089.0     55828.31\n",
      "16754.0     54558.18\n",
      "Name: Revenue, dtype: float64\n",
      "\n",
      "Top Customers by Revenue 2011:\n",
      "Customer ID\n",
      "14646.0    279489.02\n",
      "18102.0    256438.49\n",
      "17450.0    187482.17\n",
      "14911.0    132572.62\n",
      "12415.0    123725.45\n",
      "14156.0    113384.14\n",
      "17511.0     88125.38\n",
      "16684.0     65892.08\n",
      "13694.0     62653.10\n",
      "15311.0     59419.34\n",
      "Name: Revenue, dtype: float64\n"
     ]
    }
   ],
   "source": [
    "# Total revenue per customer\n",
    "customer_revenue_2010 = df_2010.groupby('Customer ID')['Revenue'].sum().sort_values(ascending=False)\n",
    "customer_revenue_2011 = df_2011.groupby('Customer ID')['Revenue'].sum().sort_values(ascending=False)\n",
    "\n",
    "print(\"\\nTop Customers by Revenue 2010:\")\n",
    "print(customer_revenue_2010.head(10))\n",
    "print(\"\\nTop Customers by Revenue 2011:\")\n",
    "print(customer_revenue_2011.head(10))"
   ]
  },
  {
   "cell_type": "markdown",
   "metadata": {},
   "source": [
    "### Overview\n",
    "Analyzing top customers by revenue for 2010 and 2011 provides insights into key client relationships and their contribution to overall sales.\n",
    "\n",
    "### 2010 Insights\n",
    "- Customer **18102** leads with revenue of 341,776.73, showcasing their significant contribution to sales.\n",
    "- Other major customers, such as **14646** and **14156**, also demonstrate high spending, indicating potential for tailored marketing or loyalty programs.\n",
    "\n",
    "### 2011 Insights\n",
    "- Although the leaderboard shifts slightly, **14646** becomes the top customer with a revenue of 279,489.02.\n",
    "- Customers such as **14911** and **17511** remain consistent, showing strong repeat purchasing behavior.\n",
    "\n",
    "### Conclusion\n",
    "These insights highlight the importance of maintaining strong relationships with top customers. Strategies could include personalized offers or loyalty initiatives to further enhance engagement and revenue from these key segments."
   ]
  },
  {
   "cell_type": "markdown",
   "metadata": {},
   "source": [
    "# Combined Analysis: Products and Customer Revenue\n",
    "\n",
    "## Overview\n",
    "This combined analysis examines the top products by quantity and revenue alongside the most profitable customers for the years 2010 and 2011. Understanding these dynamics offers comprehensive insights into sales performance and customer behavior.\n",
    "\n",
    "## Key Findings\n",
    "\n",
    "### Top Products\n",
    "- Popular products like **Regency Cakestand 3 Tier** and **White Hanging Heart T-Light Holder** play crucial roles in revenue generation, suggesting strong customer demand and potential premium pricing strategies.\n",
    "- **World War 2 Gliders Assorted Designs** and **Jumbo Bag Red Retrospot** consistently rank high in quantity sold, indicating a broad customer base and reliable sales volume.\n",
    "\n",
    "### Revenue Insights\n",
    "- **Dotcom Postage** emerges as a notable revenue stream, highlighting the impact of shipping and additional services on overall earnings.\n",
    "\n",
    "### Customer Contributions\n",
    "- Top customers such as **18102** and **14646** contribute significantly to sales, with substantial revenue generated from each, underscoring the value of maintaining these relationships.\n",
    "\n",
    "## Strategic Implications\n",
    "- **Product Focus**: Prioritize inventory and marketing strategies around top-selling and high-revenue products, ensuring adequate stock and promotional support.\n",
    "- **Customer Engagement**: Enhance engagement with key customers through personalized marketing and loyalty programs to maintain and possibly increase their spending.\n",
    "- **Service and Shipping**: Explore further monetization of services like shipping which contribute significantly to revenue.\n",
    "\n",
    "By integrating product and customer analyses, businesses can craft targeted strategies that maximize both revenue potential and customer satisfaction."
   ]
  },
  {
   "cell_type": "code",
   "execution_count": 18,
   "metadata": {},
   "outputs": [
    {
     "data": {
      "image/png": "[encoded data removed]",
      "text/plain": [
       "<Figure size 1200x500 with 2 Axes>"
      ]
     },
     "metadata": {},
     "output_type": "display_data"
    }
   ],
   "source": [
    "# Visualizing top 10 customers\n",
    "plt.figure(figsize=(12, 5))\n",
    "\n",
    "plt.subplot(1, 2, 1)\n",
    "customer_revenue_2010.head(10).plot(kind='bar', title='Top Customers 2010', color='skyblue')\n",
    "plt.xticks(rotation=45)\n",
    "\n",
    "plt.subplot(1, 2, 2)\n",
    "customer_revenue_2011.head(10).plot(kind='bar', title='Top Customers 2011', color='salmon')\n",
    "plt.xticks(rotation=45)\n",
    "\n",
    "plt.tight_layout()\n",
    "plt.show()"
   ]
  },
  {
   "cell_type": "markdown",
   "metadata": {},
   "source": [
    "# Visualization: Top Customers by Revenue\n",
    "\n",
    "## Overview\n",
    "The bar charts illustrate the top customers by revenue for the years 2010 and 2011, highlighting significant contributors to sales.\n",
    "\n",
    "## Insights\n",
    "\n",
    "### 2010\n",
    "- **Customer 18102** stands out as the highest revenue generator, indicating a strong purchase history and potential for focused customer engagement.\n",
    "- The majority of revenue is concentrated among a few top customers, suggesting a reliance on key relationships.\n",
    "\n",
    "### 2011\n",
    "- **Customer 14646** emerges as the top contributor, with other loyal customers like **18102** maintaining high revenue figures.\n",
    "- The distribution remains top-heavy, reinforcing the importance of nurturing relationships with high-value customers.\n",
    "\n",
    "## Strategic Implications\n",
    "- **Customer Retention**: Implement loyalty and retention programs targeting these top customers to maintain and grow their contribution.\n",
    "- **Personalized Marketing**: Tailor marketing efforts to these customers to maximize their satisfaction and spending.\n",
    "- **Risk Mitigation**: Consider strategies to diversify the customer base to reduce potential revenue risk from dependency on a few customers.\n",
    "\n",
    "These visualizations emphasize the critical role of top customers in sales performance, guiding strategies for engagement and growth."
   ]
  }
 ],
 "metadata": {
  "kernelspec": {
   "display_name": "Python 3",
   "language": "python",
   "name": "python3"
  },
  "language_info": {
   "codemirror_mode": {
    "name": "ipython",
    "version": 3
   },
   "file_extension": ".py",
   "mimetype": "text/x-python",
   "name": "python",
   "nbconvert_exporter": "python",
   "pygments_lexer": "ipython3",
   "version": "3.11.6"
  }
 },
 "nbformat": 4,
 "nbformat_minor": 2
}
